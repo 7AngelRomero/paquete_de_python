{
 "cells": [
  {
   "cell_type": "code",
   "execution_count": 1,
   "id": "8a662f9d",
   "metadata": {},
   "outputs": [
    {
     "name": "stdout",
     "output_type": "stream",
     "text": [
      "Epale mano\n"
     ]
    }
   ],
   "source": [
    "print (\"Epale mano\")"
   ]
  },
  {
   "cell_type": "markdown",
   "id": "8f1eefc4",
   "metadata": {},
   "source": [
    "###Python Funcamentos\n",
    "Detalles en: 1.el libro de python/ 2.PEP 8\n",
    "\n",
    "*Variable\n",
    "*Tipos de datos\n",
    "    - Strings\n",
    "    - Enteros\n",
    "    - Flotantes\n",
    "    - Listas\n",
    "    - Diccionarios\n",
    "    - Tuplas \n",
    "*Operadores\n",
    "    - Matemáticos\n",
    "    - Lógicos\n",
    "    - Comparación\n",
    "*c"
   ]
  },
  {
   "cell_type": "code",
   "execution_count": null,
   "id": "a01de707",
   "metadata": {},
   "outputs": [],
   "source": [
    "#variables\n",
    "name = \"Manolo\"\n",
    "age = 30\n",
    "\n",
    "last_name = \"ArithmeticError\" #si\n",
    "LastNAme = \"ArithmeticError\" #no\n",
    "lastname = \"ArithmeticError\" #no\n",
    "#Estos 3 tipos de last name son diferentes variables, Python es sensible a mayusculas y minusculas\n",
    "\n",
    "\n",
    "\n"
   ]
  },
  {
   "cell_type": "code",
   "execution_count": null,
   "id": "51d9ef1d",
   "metadata": {},
   "outputs": [
    {
     "data": {
      "text/plain": [
       "'Manolo'"
      ]
     },
     "execution_count": 2,
     "metadata": {},
     "output_type": "execute_result"
    }
   ],
   "source": [
    "name\n"
   ]
  }
 ],
 "metadata": {
  "kernelspec": {
   "display_name": ".venv",
   "language": "python",
   "name": "python3"
  },
  "language_info": {
   "codemirror_mode": {
    "name": "ipython",
    "version": 3
   },
   "file_extension": ".py",
   "mimetype": "text/x-python",
   "name": "python",
   "nbconvert_exporter": "python",
   "pygments_lexer": "ipython3",
   "version": "3.13.5"
  }
 },
 "nbformat": 4,
 "nbformat_minor": 5
}
