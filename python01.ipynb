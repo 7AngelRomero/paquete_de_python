{
 "cells": [
  {
   "cell_type": "code",
   "execution_count": 15,
   "id": "8a662f9d",
   "metadata": {},
   "outputs": [
    {
     "name": "stdout",
     "output_type": "stream",
     "text": [
      "Epale mano\n"
     ]
    }
   ],
   "source": [
    "print (\"Epale mano\")"
   ]
  },
  {
   "cell_type": "markdown",
   "id": "8f1eefc4",
   "metadata": {},
   "source": [
    "###Python Funcamentos\n",
    "Detalles en: 1.el libro de python/ 2.PEP 8\n",
    "\n",
    "Variable\n",
    "* Tipos de datos\n",
    "    - Strings\n",
    "    - Enteros\n",
    "    - Flotantes\n",
    "    - Listas\n",
    "    - Diccionarios\n",
    "    - Tuplas \n",
    "* Operadores\n",
    "    - Matemáticos\n",
    "    - Lógicos\n",
    "    - Comparación\n",
    "* Estructuras de control\n",
    "    - Condicionales\n",
    "    - ciclos infinitos\n",
    "    - Funciones"
   ]
  },
  {
   "cell_type": "code",
   "execution_count": 16,
   "id": "a01de707",
   "metadata": {},
   "outputs": [],
   "source": [
    "#variables\n",
    "name = \"Manolo\"\n",
    "age = 30\n",
    "\n",
    "last_name = \"ArithmeticError\" #si\n",
    "LastNAme = \"ArithmeticError\" #no\n",
    "lastname = \"ArithmeticError\" #no\n",
    "#Estos 3 tipos de last name son diferentes variables, Python es sensible a mayusculas y minusculas\n",
    "\n",
    "\n",
    "\n"
   ]
  },
  {
   "cell_type": "code",
   "execution_count": 17,
   "id": "51d9ef1d",
   "metadata": {},
   "outputs": [
    {
     "data": {
      "text/plain": [
       "'Manolo'"
      ]
     },
     "execution_count": 17,
     "metadata": {},
     "output_type": "execute_result"
    }
   ],
   "source": [
    "name\n"
   ]
  },
  {
   "cell_type": "code",
   "execution_count": 18,
   "id": "80af461c",
   "metadata": {},
   "outputs": [],
   "source": [
    "# operadores matemáticos\n",
    "number1 = 10\n",
    "number2 = 5\n",
    "\n",
    "result_sum = number1 + number2\n",
    "result_substracion = number1 - number2\n",
    "result_multiplicacion = number1 * number2\n",
    "result_division = number1 / number2"
   ]
  },
  {
   "cell_type": "code",
   "execution_count": 19,
   "id": "7546a479",
   "metadata": {},
   "outputs": [
    {
     "name": "stdout",
     "output_type": "stream",
     "text": [
      "15\n",
      "5\n",
      "50\n",
      "2.0\n"
     ]
    }
   ],
   "source": [
    "print(result_sum)\n",
    "print(result_substracion)\n",
    "print(result_multiplicacion)\n",
    "print(result_division)\n"
   ]
  },
  {
   "cell_type": "code",
   "execution_count": 20,
   "id": "3572edd3",
   "metadata": {},
   "outputs": [
    {
     "name": "stdout",
     "output_type": "stream",
     "text": [
      "El resultado de la suma es: 15\n",
      "El resultado de la resta es: 5\n",
      "El resultado de la multiplicación es: 50\n",
      "El resultado de la división es: 2.0\n"
     ]
    }
   ],
   "source": [
    "print(f\"El resultado de la suma es: {result_sum}\")\n",
    "print(f\"El resultado de la resta es: {result_substracion}\")\n",
    "print(f\"El resultado de la multiplicación es: {result_multiplicacion}\")\n",
    "print(f\"El resultado de la división es: {result_division}\")"
   ]
  },
  {
   "cell_type": "code",
   "execution_count": 21,
   "id": "1b73bcf8",
   "metadata": {},
   "outputs": [
    {
     "name": "stdout",
     "output_type": "stream",
     "text": [
      "Ingrese el día de la semana:\n"
     ]
    }
   ],
   "source": [
    "if day == \"Lunes\":\n",
    "    print(\"Ingrese el día de la semana:\")"
   ]
  },
  {
   "cell_type": "code",
   "execution_count": 22,
   "id": "6eaecb52",
   "metadata": {},
   "outputs": [
    {
     "name": "stdout",
     "output_type": "stream",
     "text": [
      "Hoy no es lunes, es:\n"
     ]
    }
   ],
   "source": [
    "day = input(\"Ingrese el día de la saeman: \")\n",
    "\n",
    "if day == \"Lunes\":\n",
    "    print(\"Hoy es lunes\")\n",
    "else:\n",
    "    print(\"Hoy no es lunes, es:\") \n"
   ]
  },
  {
   "cell_type": "code",
   "execution_count": 23,
   "id": "92ac3e83",
   "metadata": {},
   "outputs": [],
   "source": [
    "##Listass\n",
    "names = [\"Manolo\", \"Juan\", \"Pedro\", \"Maria\"]\n",
    "ages = [30, 25, 40, 22]\n",
    "pesos = [70.5, 60.2, 80.1, 55.0]"
   ]
  },
  {
   "cell_type": "code",
   "execution_count": 14,
   "id": "93d7881f",
   "metadata": {},
   "outputs": [
    {
     "data": {
      "text/plain": [
       "['Amar', 'llo']"
      ]
     },
     "execution_count": 14,
     "metadata": {},
     "output_type": "execute_result"
    }
   ],
   "source": [
    "# Python has a set of built-in methods that you can use on strings.\n",
    "#            01234567\n",
    "last_name = \"Amarillo\"\n",
    "\n",
    "last_name.strip()  # Elimina espacios al inicio y al final\n",
    "last_name.lower()  # Convierte a minúsculas\n",
    "last_name.upper()  # Convierte a mayúsculas\n",
    "last_name.replace(\"A\", \"E\")  # Reemplaza \"A\" por \"E\"\n",
    "last_name.find(\"r\")  # Encuentra la posición de \"r\"\n",
    "last_name.split(\"i\")  # Divide la cadena en una lista usando \"i\" como separador \n",
    "\n",
    "\n",
    "\n",
    "\n"
   ]
  },
  {
   "cell_type": "code",
   "execution_count": 29,
   "id": "644cb6f3",
   "metadata": {},
   "outputs": [
    {
     "name": "stdout",
     "output_type": "stream",
     "text": [
      "A\n",
      "m\n",
      "a\n",
      "r\n"
     ]
    },
    {
     "data": {
      "text/plain": [
       "['Manolo', 'Juan']"
      ]
     },
     "execution_count": 29,
     "metadata": {},
     "output_type": "execute_result"
    }
   ],
   "source": [
    "# posiciones de caracteres\n",
    "\n",
    "last_name = \"Amarillo\"\n",
    "\n",
    "print(last_name[0])  # Imprime el primer carácter\n",
    "print(last_name[1]) # Imprime el segundo carácter   \n",
    "print(last_name[2])  # Imprime el tercer carácter\n",
    "print(last_name[3])  # Imprime el cuarto carácter\n",
    "\n",
    "names[0]  # Imprime el primer carácter de la variable name\n",
    "names[0:2]  # Imprime los caracteres del índice 0 al 2 (excluyendo el 3)\n"
   ]
  },
  {
   "cell_type": "code",
   "execution_count": null,
   "id": "72e02fa8",
   "metadata": {},
   "outputs": [],
   "source": [
    "names = [\"Manolo\",\n",
    "        \"Juan\",\n",
    "        \"Pedro\",\n",
    "        \"Maria\",\n",
    "        \"Ana\",\n",
    "        \"Jose\",\n",
    "        \"Luis\",\n",
    "        \"Carlos\"\n",
    "        ]\n"
   ]
  },
  {
   "cell_type": "code",
   "execution_count": 30,
   "id": "ee62d2b4",
   "metadata": {},
   "outputs": [
    {
     "name": "stdout",
     "output_type": "stream",
     "text": [
      "['Miguel', 'Maria', 'Manolo', 'Juan']\n"
     ]
    }
   ],
   "source": [
    "names.append(\"Laura\")  # Agrega un nuevo nombre al final de la lista\n",
    "names.insert(0, \"Miguel\")  # Inserta \"Miguel\" al inicio de la lista\n",
    "names.remove(\"Pedro\")   # Elimina \"Pedro\" de la lista\n",
    "names.pop()  # Elimina el último elemento de la lista\n",
    "names.sort()  # Ordena la lista alfabéticamente\n",
    "names.reverse()  # Invierte el orden de la lista\n",
    "\n",
    "print(names)  # Imprime la lista modificada\n"
   ]
  },
  {
   "cell_type": "code",
   "execution_count": null,
   "id": "8a5a5b5c",
   "metadata": {},
   "outputs": [],
   "source": [
    "# TUPLAS\n",
    "# Las tuplas son similares a las listas, pero son inmutables (no se pueden modificar una vez creadas).\n",
    "\n",
    "tupla_nombres = (\"Manolo\", \"Juan\", \"Pedro\", \"Maria\")\n",
    "\n",
    "len(tupla_nombres)  # Devuelve la cantidad de elementos en la tupla"
   ]
  },
  {
   "cell_type": "code",
   "execution_count": 37,
   "id": "a99196a5",
   "metadata": {},
   "outputs": [
    {
     "name": "stdout",
     "output_type": "stream",
     "text": [
      "['Miguel', 'Maria', 'Manolo', 'Juan']\n",
      "['Maria', 'Maria', 'Manolo', 'Juan']\n"
     ]
    }
   ],
   "source": [
    "print(names)\n",
    "\n",
    "# Cambiar nombre de la posición 0 a maria\n",
    "names[0] = \"Maria\"  # Cambia el primer nombre a \"Maria\"\n",
    "\n",
    "print(names)\n"
   ]
  },
  {
   "cell_type": "code",
   "execution_count": 38,
   "id": "588d27b5",
   "metadata": {},
   "outputs": [],
   "source": [
    "# Diccionarios\n",
    "dict1 = {\n",
    "    \"name\": \"Manolo\",\n",
    "    \"age\": 30,\n",
    "    \"city\": \"Madrid\",\n",
    "    \"food\": [\"pizza\", \"pasta\", \"ensalada\"],\n",
    "    \"claves\": {\n",
    "        \"correo\": \"example@gmail.com\",\n",
    "        \"telefono\": \"123456789\",\n",
    "        \"netflix\": \"password123\",\n",
    "        \"github\": \"github_user\",\n",
    "    }\n",
    "}"
   ]
  },
  {
   "cell_type": "code",
   "execution_count": null,
   "id": "4885732c",
   "metadata": {},
   "outputs": [
    {
     "name": "stdout",
     "output_type": "stream",
     "text": [
      "Manolo\n",
      "\n"
     ]
    }
   ],
   "source": [
    "print(dict1[\"name\"])"
   ]
  },
  {
   "cell_type": "code",
   "execution_count": 44,
   "id": "d0154db4",
   "metadata": {},
   "outputs": [
    {
     "name": "stdout",
     "output_type": "stream",
     "text": [
      "{'correo': '', 'telefono': '123456789', 'netflix': 'password123', 'github': 'github_user'}\n"
     ]
    }
   ],
   "source": [
    "print(dict1[\"claves\"])"
   ]
  },
  {
   "cell_type": "code",
   "execution_count": 4,
   "id": "3302f61b",
   "metadata": {},
   "outputs": [
    {
     "name": "stdout",
     "output_type": "stream",
     "text": [
      "Manolo\n",
      "Juan\n",
      "Pedro\n",
      "Maria\n",
      "Ana\n",
      "Jose\n",
      "Luis\n",
      "Carlos\n"
     ]
    }
   ],
   "source": [
    "# ciclo for\n",
    "names = [\"Manolo\",\n",
    "        \"Juan\",\n",
    "        \"Pedro\",\n",
    "        \"Maria\",\n",
    "        \"Ana\",\n",
    "        \"Jose\",\n",
    "        \"Luis\",\n",
    "        \"Carlos\"\n",
    "        ]\n",
    "\n",
    "\n",
    "\n",
    "for variable in names:\n",
    "    print(variable)"
   ]
  },
  {
   "cell_type": "code",
   "execution_count": 6,
   "id": "085c49a5",
   "metadata": {},
   "outputs": [
    {
     "name": "stdout",
     "output_type": "stream",
     "text": [
      "hola\n",
      "hola\n",
      "hola\n",
      "hola\n",
      "hola\n",
      "hola\n",
      "hola\n",
      "hola\n"
     ]
    }
   ],
   "source": [
    "for variable in range(len(names)):\n",
    "    print(\"hola\")"
   ]
  },
  {
   "cell_type": "code",
   "execution_count": 7,
   "id": "c075725f",
   "metadata": {},
   "outputs": [
    {
     "name": "stdout",
     "output_type": "stream",
     "text": [
      "hola\n",
      "hola\n",
      "hola\n",
      "hola\n",
      "hola\n",
      "hola\n",
      "hola\n",
      "hola\n"
     ]
    }
   ],
   "source": [
    "for item in range(len(names)):\n",
    "    print(\"hola\")"
   ]
  },
  {
   "cell_type": "code",
   "execution_count": 8,
   "id": "00c1c9a4",
   "metadata": {},
   "outputs": [
    {
     "name": "stdout",
     "output_type": "stream",
     "text": [
      "0\n",
      "1\n",
      "2\n",
      "3\n",
      "4\n",
      "5\n",
      "6\n"
     ]
    }
   ],
   "source": [
    "for cualquier_cosa in range(7):\n",
    "    print(cualquier_cosa)"
   ]
  },
  {
   "cell_type": "code",
   "execution_count": 16,
   "id": "cfadd959",
   "metadata": {},
   "outputs": [
    {
     "name": "stdout",
     "output_type": "stream",
     "text": [
      "Jose encontrado en la posición 5\n"
     ]
    }
   ],
   "source": [
    "# buscar a jose en un conjuto de datos\n",
    "names = [\"Manolo\", \"Juan\", \"Pedro\", \"Maria\", \"Ana\", \"Jose\", \"Luis\", \"Carlos\"]\n",
    "\n",
    "for name in range (len(names)):     #recorre el conjunto de datos\n",
    "    if names[name] == 'Jose':       #compara con un dato específico\n",
    "        print(f\"Jose encontrado en la posición {name}\") \n",
    "        break  # Salir del bucle una vez encontrado"
   ]
  },
  {
   "cell_type": "code",
   "execution_count": null,
   "id": "2649ef75",
   "metadata": {},
   "outputs": [],
   "source": [
    "print()"
   ]
  },
  {
   "cell_type": "code",
   "execution_count": null,
   "id": "90853cec",
   "metadata": {},
   "outputs": [
    {
     "name": "stdout",
     "output_type": "stream",
     "text": [
      "Hola, ¿cómo estás?\n"
     ]
    }
   ],
   "source": [
    "# Funciones\n",
    "#las funciones son bloques de código reutilizables que realizan una tarea específica, permitendo organizar mejor el código y evitar repeticiones.\n",
    "\n",
    "def saludar(): #palabra reservada def + nombre de la función + paréntesis + dos puntos\n",
    "    print(\"Hola, ¿cómo estás?\") #cuerpo de la función, indentado\n"
   ]
  },
  {
   "cell_type": "code",
   "execution_count": null,
   "id": "649cbf09",
   "metadata": {},
   "outputs": [
    {
     "name": "stdout",
     "output_type": "stream",
     "text": [
      "Hola, ¿cómo estás?\n"
     ]
    }
   ],
   "source": [
    "saludar() #llamada a la función"
   ]
  },
  {
   "cell_type": "code",
   "execution_count": 7,
   "id": "a6a6a3e6",
   "metadata": {},
   "outputs": [
    {
     "name": "stdout",
     "output_type": "stream",
     "text": [
      "Hola, Josefino, ¿cómo estás?\n"
     ]
    }
   ],
   "source": [
    "#funcion con parámetros\n",
    "\n",
    "def saludos2(name): #parámetro\n",
    "    print(f\"Hola, {name}, ¿cómo estás?\") #cuerpo de la función, indentado\n",
    "\n",
    "    #la f del print sirve para insertar variables dentro de una cadena de texto\n",
    "\n",
    "saludos2(\"Josefino\")"
   ]
  },
  {
   "cell_type": "code",
   "execution_count": 9,
   "id": "ec0e712a",
   "metadata": {},
   "outputs": [
    {
     "name": "stdout",
     "output_type": "stream",
     "text": [
      "Hola Pepito\n"
     ]
    }
   ],
   "source": [
    "#funcion con return\n",
    "\n",
    "def saludos3(name):\n",
    "    return print(f\"Hola {name}\") #se debe poner return para que la función devuelva un valor, esto siempre al final de la función.\n",
    "\n",
    "\n",
    "saludos3(\"Pepito\")"
   ]
  },
  {
   "cell_type": "code",
   "execution_count": null,
   "id": "2a112b26",
   "metadata": {},
   "outputs": [
    {
     "name": "stdout",
     "output_type": "stream",
     "text": [
      "Hola SIMON\n"
     ]
    }
   ],
   "source": [
    "def saludos4(name):\n",
    "    name = name.upper()  # Convierte el nombre a mayúsculas\n",
    "    return print(f\"Hola {name}\")  # Devuelve el saludo con el nombre en mayúsculas, utilizamos el return con lo que esperamos que retorne la función, además d ela sentecias que nos devuelva el valor\n",
    "\n",
    "saludos4(\"Simon\")"
   ]
  },
  {
   "cell_type": "code",
   "execution_count": null,
   "id": "14a293e4",
   "metadata": {},
   "outputs": [
    {
     "name": "stdout",
     "output_type": "stream",
     "text": [
      "Hola SIMON\n"
     ]
    }
   ],
   "source": [
    "# Buenas practicas o recomendaciones de Pep 8\n",
    "\n",
    "def saludos5(name:str) -> str:  # Indicamos que name es una cadena y la función retorna una cadena\n",
    "    name = name.upper()  # Convierte el nombre a mayúsculas\n",
    "    return print(f\"Hola {name}\")  # Devuelve el saludo con el nombre en mayúsculas, utilizamos el return con lo que esperamos que retorne la función, además d ela sentecias que nos devuelva el valor\n",
    "\n",
    "saludos4(\"Simon\")"
   ]
  },
  {
   "cell_type": "code",
   "execution_count": null,
   "id": "1c9c6219",
   "metadata": {},
   "outputs": [
    {
     "name": "stdout",
     "output_type": "stream",
     "text": [
      "Hola DAYANA\n"
     ]
    }
   ],
   "source": [
    "# Comentarios de documentación\n",
    "\n",
    "def saludos5(name:str) -> str:  # Indicamos que name es una cadena y la función retorna una cadena\n",
    "    \"\"\"\"\n",
    "    Esta es una funcion que saluda a un nombre dado\n",
    "    name: str: El nombre de la persona a saludar\n",
    "    retunrs: str: El saludo con el nombre en mayúsculas\n",
    "    \"\"\"\n",
    "\n",
    "    name = name.upper()  # Convierte el nombre a mayúsculas\n",
    "    return print(f\"Hola {name}\")  # Devuelve el saludo con el nombre en mayúsculas, utilizamos el return con lo que esperamos que retorne la función, además d ela sentecias que nos devuelva el valor\n",
    "\n",
    "saludos4(\"Dayana\")\n",
    "\n",
    "# Esta es la definicion de la estructura básica de una función en Python:"
   ]
  },
  {
   "cell_type": "code",
   "execution_count": null,
   "id": "990205b1",
   "metadata": {},
   "outputs": [],
   "source": [
    "# Funcion que suma dos números, metodo informal\n",
    "\n",
    "def suma(a, b): #parámetros\n",
    "    \"\"\"\n",
    "    Esta función suma dos números y devuelve el resultado.\n",
    "    a: int o float: El primer número a sumar\n",
    "    b: int o float: El segundo número a sumar\n",
    "    returns: int o float: La suma de a y b\n",
    "    \"\"\"\n",
    "\n",
    "    result = a + b  # Cuerpo de la función\n",
    "    return result  # Valor de retorno"
   ]
  },
  {
   "cell_type": "code",
   "execution_count": null,
   "id": "272c2b88",
   "metadata": {},
   "outputs": [
    {
     "data": {
      "text/plain": [
       "5"
      ]
     },
     "execution_count": 18,
     "metadata": {},
     "output_type": "execute_result"
    }
   ],
   "source": [
    "# Funcion que resta dos números, metodo formal\n",
    "\n",
    "def resta(a: float, b: float) -> float:  # Tipos de datos especificados\n",
    "    \"\"\"\n",
    "    Esta función resta dos números y devuelve el resultado.\n",
    "    a: float: El número del cual se resta\n",
    "    b: float: El número a restar\n",
    "    returns: float: La resta de a y b\n",
    "    \"\"\"\n",
    "\n",
    "    result = a - b  # Cuerpo de la función\n",
    "    return result  # Valor de retorno\n",
    "\n",
    "# Manera de recibir los parametros\n",
    "\n",
    "# Llamada a la función con argumentos posicionales\n",
    "resta(10, 5)  # Llamada a la función con argumentos\n",
    "resta(5, 10) # Llamada a la función con argumentos\n",
    "\n",
    "# llamda a la función con argumentos nombrados\n",
    "resta(a=10, b=5) # Llamada a la función con argumentos nombrados"
   ]
  }
 ],
 "metadata": {
  "kernelspec": {
   "display_name": ".venv",
   "language": "python",
   "name": "python3"
  },
  "language_info": {
   "codemirror_mode": {
    "name": "ipython",
    "version": 3
   },
   "file_extension": ".py",
   "mimetype": "text/x-python",
   "name": "python",
   "nbconvert_exporter": "python",
   "pygments_lexer": "ipython3",
   "version": "3.13.5"
  }
 },
 "nbformat": 4,
 "nbformat_minor": 5
}
