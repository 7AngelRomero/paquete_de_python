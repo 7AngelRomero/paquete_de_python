{
 "cells": [
  {
   "cell_type": "code",
   "execution_count": 3,
   "id": "8a662f9d",
   "metadata": {},
   "outputs": [
    {
     "name": "stdout",
     "output_type": "stream",
     "text": [
      "Epale mano\n"
     ]
    }
   ],
   "source": [
    "print (\"Epale mano\")"
   ]
  },
  {
   "cell_type": "markdown",
   "id": "8f1eefc4",
   "metadata": {},
   "source": [
    "###Python Funcamentos\n",
    "Detalles en: 1.el libro de python/ 2.PEP 8\n",
    "\n",
    "Variable\n",
    "* Tipos de datos\n",
    "    - Strings\n",
    "    - Enteros\n",
    "    - Flotantes\n",
    "    - Listas\n",
    "    - Diccionarios\n",
    "    - Tuplas \n",
    "* Operadores\n",
    "    - Matemáticos\n",
    "    - Lógicos\n",
    "    - Comparación\n",
    "* Estructuras de control\n",
    "    - Condicionales\n",
    "    - ciclos infinitos\n",
    "    - Funciones"
   ]
  },
  {
   "cell_type": "code",
   "execution_count": 4,
   "id": "a01de707",
   "metadata": {},
   "outputs": [],
   "source": [
    "#variables\n",
    "name = \"Manolo\"\n",
    "age = 30\n",
    "\n",
    "last_name = \"ArithmeticError\" #si\n",
    "LastNAme = \"ArithmeticError\" #no\n",
    "lastname = \"ArithmeticError\" #no\n",
    "#Estos 3 tipos de last name son diferentes variables, Python es sensible a mayusculas y minusculas\n",
    "\n",
    "\n",
    "\n"
   ]
  },
  {
   "cell_type": "code",
   "execution_count": 5,
   "id": "51d9ef1d",
   "metadata": {},
   "outputs": [
    {
     "data": {
      "text/plain": [
       "'Manolo'"
      ]
     },
     "execution_count": 5,
     "metadata": {},
     "output_type": "execute_result"
    }
   ],
   "source": [
    "name\n"
   ]
  },
  {
   "cell_type": "code",
   "execution_count": 6,
   "id": "80af461c",
   "metadata": {},
   "outputs": [],
   "source": [
    "# operadores matemáticos\n",
    "number1 = 10\n",
    "number2 = 5\n",
    "\n",
    "result_sum = number1 + number2\n",
    "result_substracion = number1 - number2\n",
    "result_multiplicacion = number1 * number2\n",
    "result_division = number1 / number2"
   ]
  },
  {
   "cell_type": "code",
   "execution_count": 7,
   "id": "7546a479",
   "metadata": {},
   "outputs": [
    {
     "name": "stdout",
     "output_type": "stream",
     "text": [
      "15\n",
      "5\n",
      "50\n",
      "2.0\n"
     ]
    }
   ],
   "source": [
    "print(result_sum)\n",
    "print(result_substracion)\n",
    "print(result_multiplicacion)\n",
    "print(result_division)\n"
   ]
  },
  {
   "cell_type": "code",
   "execution_count": 8,
   "id": "3572edd3",
   "metadata": {},
   "outputs": [
    {
     "name": "stdout",
     "output_type": "stream",
     "text": [
      "El resultado de la suma es: 15\n",
      "El resultado de la resta es: 5\n",
      "El resultado de la multiplicación es: 50\n",
      "El resultado de la división es: 2.0\n"
     ]
    }
   ],
   "source": [
    "print(f\"El resultado de la suma es: {result_sum}\")\n",
    "print(f\"El resultado de la resta es: {result_substracion}\")\n",
    "print(f\"El resultado de la multiplicación es: {result_multiplicacion}\")\n",
    "print(f\"El resultado de la división es: {result_division}\")"
   ]
  },
  {
   "cell_type": "code",
   "execution_count": null,
   "id": "1b73bcf8",
   "metadata": {},
   "outputs": [],
   "source": [
    "if day == \"Lunes\":\n",
    "    print(\"Ingrese el día de la semana:\")"
   ]
  },
  {
   "cell_type": "code",
   "execution_count": 10,
   "id": "6eaecb52",
   "metadata": {},
   "outputs": [
    {
     "name": "stdout",
     "output_type": "stream",
     "text": [
      "Hoy es lunes\n"
     ]
    }
   ],
   "source": [
    "day = input(\"Ingrese el día de la saeman: \")\n",
    "\n",
    "if day == \"Lunes\":\n",
    "    print(\"Hoy es lunes\")\n",
    "else:\n",
    "    print(\"Hoy no es lunes, es:\") \n"
   ]
  }
 ],
 "metadata": {
  "kernelspec": {
   "display_name": ".venv",
   "language": "python",
   "name": "python3"
  },
  "language_info": {
   "codemirror_mode": {
    "name": "ipython",
    "version": 3
   },
   "file_extension": ".py",
   "mimetype": "text/x-python",
   "name": "python",
   "nbconvert_exporter": "python",
   "pygments_lexer": "ipython3",
   "version": "3.13.5"
  }
 },
 "nbformat": 4,
 "nbformat_minor": 5
}
