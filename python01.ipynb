{
 "cells": [
  {
   "cell_type": "code",
   "execution_count": 15,
   "id": "8a662f9d",
   "metadata": {},
   "outputs": [
    {
     "name": "stdout",
     "output_type": "stream",
     "text": [
      "Epale mano\n"
     ]
    }
   ],
   "source": [
    "print (\"Epale mano\")"
   ]
  },
  {
   "cell_type": "markdown",
   "id": "8f1eefc4",
   "metadata": {},
   "source": [
    "###Python Funcamentos\n",
    "Detalles en: 1.el libro de python/ 2.PEP 8\n",
    "\n",
    "Variable\n",
    "* Tipos de datos\n",
    "    - Strings\n",
    "    - Enteros\n",
    "    - Flotantes\n",
    "    - Listas\n",
    "    - Diccionarios\n",
    "    - Tuplas \n",
    "* Operadores\n",
    "    - Matemáticos\n",
    "    - Lógicos\n",
    "    - Comparación\n",
    "* Estructuras de control\n",
    "    - Condicionales\n",
    "    - ciclos infinitos\n",
    "    - Funciones"
   ]
  },
  {
   "cell_type": "code",
   "execution_count": 16,
   "id": "a01de707",
   "metadata": {},
   "outputs": [],
   "source": [
    "#variables\n",
    "name = \"Manolo\"\n",
    "age = 30\n",
    "\n",
    "last_name = \"ArithmeticError\" #si\n",
    "LastNAme = \"ArithmeticError\" #no\n",
    "lastname = \"ArithmeticError\" #no\n",
    "#Estos 3 tipos de last name son diferentes variables, Python es sensible a mayusculas y minusculas\n",
    "\n",
    "\n",
    "\n"
   ]
  },
  {
   "cell_type": "code",
   "execution_count": 17,
   "id": "51d9ef1d",
   "metadata": {},
   "outputs": [
    {
     "data": {
      "text/plain": [
       "'Manolo'"
      ]
     },
     "execution_count": 17,
     "metadata": {},
     "output_type": "execute_result"
    }
   ],
   "source": [
    "name\n"
   ]
  },
  {
   "cell_type": "code",
   "execution_count": 18,
   "id": "80af461c",
   "metadata": {},
   "outputs": [],
   "source": [
    "# operadores matemáticos\n",
    "number1 = 10\n",
    "number2 = 5\n",
    "\n",
    "result_sum = number1 + number2\n",
    "result_substracion = number1 - number2\n",
    "result_multiplicacion = number1 * number2\n",
    "result_division = number1 / number2"
   ]
  },
  {
   "cell_type": "code",
   "execution_count": 19,
   "id": "7546a479",
   "metadata": {},
   "outputs": [
    {
     "name": "stdout",
     "output_type": "stream",
     "text": [
      "15\n",
      "5\n",
      "50\n",
      "2.0\n"
     ]
    }
   ],
   "source": [
    "print(result_sum)\n",
    "print(result_substracion)\n",
    "print(result_multiplicacion)\n",
    "print(result_division)\n"
   ]
  },
  {
   "cell_type": "code",
   "execution_count": 20,
   "id": "3572edd3",
   "metadata": {},
   "outputs": [
    {
     "name": "stdout",
     "output_type": "stream",
     "text": [
      "El resultado de la suma es: 15\n",
      "El resultado de la resta es: 5\n",
      "El resultado de la multiplicación es: 50\n",
      "El resultado de la división es: 2.0\n"
     ]
    }
   ],
   "source": [
    "print(f\"El resultado de la suma es: {result_sum}\")\n",
    "print(f\"El resultado de la resta es: {result_substracion}\")\n",
    "print(f\"El resultado de la multiplicación es: {result_multiplicacion}\")\n",
    "print(f\"El resultado de la división es: {result_division}\")"
   ]
  },
  {
   "cell_type": "code",
   "execution_count": 21,
   "id": "1b73bcf8",
   "metadata": {},
   "outputs": [
    {
     "name": "stdout",
     "output_type": "stream",
     "text": [
      "Ingrese el día de la semana:\n"
     ]
    }
   ],
   "source": [
    "if day == \"Lunes\":\n",
    "    print(\"Ingrese el día de la semana:\")"
   ]
  },
  {
   "cell_type": "code",
   "execution_count": 22,
   "id": "6eaecb52",
   "metadata": {},
   "outputs": [
    {
     "name": "stdout",
     "output_type": "stream",
     "text": [
      "Hoy no es lunes, es:\n"
     ]
    }
   ],
   "source": [
    "day = input(\"Ingrese el día de la saeman: \")\n",
    "\n",
    "if day == \"Lunes\":\n",
    "    print(\"Hoy es lunes\")\n",
    "else:\n",
    "    print(\"Hoy no es lunes, es:\") \n"
   ]
  },
  {
   "cell_type": "code",
   "execution_count": 23,
   "id": "92ac3e83",
   "metadata": {},
   "outputs": [],
   "source": [
    "##Listass\n",
    "names = [\"Manolo\", \"Juan\", \"Pedro\", \"Maria\"]\n",
    "ages = [30, 25, 40, 22]\n",
    "pesos = [70.5, 60.2, 80.1, 55.0]"
   ]
  },
  {
   "cell_type": "code",
   "execution_count": 14,
   "id": "93d7881f",
   "metadata": {},
   "outputs": [
    {
     "data": {
      "text/plain": [
       "['Amar', 'llo']"
      ]
     },
     "execution_count": 14,
     "metadata": {},
     "output_type": "execute_result"
    }
   ],
   "source": [
    "# Python has a set of built-in methods that you can use on strings.\n",
    "#            01234567\n",
    "last_name = \"Amarillo\"\n",
    "\n",
    "last_name.strip()  # Elimina espacios al inicio y al final\n",
    "last_name.lower()  # Convierte a minúsculas\n",
    "last_name.upper()  # Convierte a mayúsculas\n",
    "last_name.replace(\"A\", \"E\")  # Reemplaza \"A\" por \"E\"\n",
    "last_name.find(\"r\")  # Encuentra la posición de \"r\"\n",
    "last_name.split(\"i\")  # Divide la cadena en una lista usando \"i\" como separador \n",
    "\n",
    "\n",
    "\n",
    "\n"
   ]
  },
  {
   "cell_type": "code",
   "execution_count": 29,
   "id": "644cb6f3",
   "metadata": {},
   "outputs": [
    {
     "name": "stdout",
     "output_type": "stream",
     "text": [
      "A\n",
      "m\n",
      "a\n",
      "r\n"
     ]
    },
    {
     "data": {
      "text/plain": [
       "['Manolo', 'Juan']"
      ]
     },
     "execution_count": 29,
     "metadata": {},
     "output_type": "execute_result"
    }
   ],
   "source": [
    "# posiciones de caracteres\n",
    "\n",
    "last_name = \"Amarillo\"\n",
    "\n",
    "print(last_name[0])  # Imprime el primer carácter\n",
    "print(last_name[1]) # Imprime el segundo carácter   \n",
    "print(last_name[2])  # Imprime el tercer carácter\n",
    "print(last_name[3])  # Imprime el cuarto carácter\n",
    "\n",
    "names[0]  # Imprime el primer carácter de la variable name\n",
    "names[0:2]  # Imprime los caracteres del índice 0 al 2 (excluyendo el 3)\n"
   ]
  },
  {
   "cell_type": "code",
   "execution_count": null,
   "id": "72e02fa8",
   "metadata": {},
   "outputs": [],
   "source": [
    "names = [\"Manolo\",\n",
    "        \"Juan\",\n",
    "        \"Pedro\",\n",
    "        \"Maria\",\n",
    "        \"Ana\",\n",
    "        \"Jose\",\n",
    "        \"Luis\",\n",
    "        \"Carlos\"\n",
    "        ]\n",
    "\n"
   ]
  },
  {
   "cell_type": "code",
   "execution_count": 30,
   "id": "ee62d2b4",
   "metadata": {},
   "outputs": [
    {
     "name": "stdout",
     "output_type": "stream",
     "text": [
      "['Miguel', 'Maria', 'Manolo', 'Juan']\n"
     ]
    }
   ],
   "source": [
    "names.append(\"Laura\")  # Agrega un nuevo nombre al final de la lista\n",
    "names.insert(0, \"Miguel\")  # Inserta \"Miguel\" al inicio de la lista\n",
    "names.remove(\"Pedro\")   # Elimina \"Pedro\" de la lista\n",
    "names.pop()  # Elimina el último elemento de la lista\n",
    "names.sort()  # Ordena la lista alfabéticamente\n",
    "names.reverse()  # Invierte el orden de la lista\n",
    "\n",
    "print(names)  # Imprime la lista modificada\n"
   ]
  },
  {
   "cell_type": "code",
   "execution_count": null,
   "id": "8a5a5b5c",
   "metadata": {},
   "outputs": [],
   "source": [
    "# TUPLAS\n",
    "# Las tuplas son similares a las listas, pero son inmutables (no se pueden modificar una vez creadas).\n",
    "\n",
    "tupla_nombres = (\"Manolo\", \"Juan\", \"Pedro\", \"Maria\")\n",
    "\n",
    "len(tupla_nombres)  # Devuelve la cantidad de elementos en la tupla"
   ]
  },
  {
   "cell_type": "code",
   "execution_count": 37,
   "id": "a99196a5",
   "metadata": {},
   "outputs": [
    {
     "name": "stdout",
     "output_type": "stream",
     "text": [
      "['Miguel', 'Maria', 'Manolo', 'Juan']\n",
      "['Maria', 'Maria', 'Manolo', 'Juan']\n"
     ]
    }
   ],
   "source": [
    "print(names)\n",
    "\n",
    "# Cambiar nombre de la posición 0 a maria\n",
    "names[0] = \"Maria\"  # Cambia el primer nombre a \"Maria\"\n",
    "\n",
    "print(names)\n"
   ]
  }
 ],
 "metadata": {
  "kernelspec": {
   "display_name": ".venv",
   "language": "python",
   "name": "python3"
  },
  "language_info": {
   "codemirror_mode": {
    "name": "ipython",
    "version": 3
   },
   "file_extension": ".py",
   "mimetype": "text/x-python",
   "name": "python",
   "nbconvert_exporter": "python",
   "pygments_lexer": "ipython3",
   "version": "3.13.5"
  }
 },
 "nbformat": 4,
 "nbformat_minor": 5
}
